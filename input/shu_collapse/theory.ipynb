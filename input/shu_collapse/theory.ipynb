{
 "cells": [
  {
   "cell_type": "code",
   "execution_count": 1,
   "metadata": {},
   "outputs": [
    {
     "data": {
      "application/javascript": [
       "MathJax.Hub.Config({\n",
       "    TeX: { equationNumbers: { autoNumber: \"AMS\" } }\n",
       "});\n",
       "\n"
      ],
      "text/plain": [
       "<IPython.core.display.Javascript object>"
      ]
     },
     "metadata": {},
     "output_type": "display_data"
    }
   ],
   "source": [
    "%%javascript\n",
    "MathJax.Hub.Config({\n",
    "    TeX: { equationNumbers: { autoNumber: \"AMS\" } }\n",
    "});\n",
    "\n"
   ]
  },
  {
   "cell_type": "markdown",
   "metadata": {},
   "source": [
    "# Shu Collapse "
   ]
  },
  {
   "cell_type": "markdown",
   "metadata": {},
   "source": [
    "Consider spherically symmetric cloud with density profile $\\rho(r,t)$, radial velocity profile $u(r,t)$, and pressure profile which follows an isothermal equation of state $P(r,t) = c_s^2 \\rho(r,t),$ where $c_s$ is the constant sound speed.\n",
    "\n",
    "We also define the mass profile as:\n",
    "\\begin{equation}\n",
    "\\label{Equation:Mass_Profile}\n",
    "M(r,t) = \\int_0^r 4 \\pi r'^2 \\rho(r',t) dr' \n",
    "\\end{equation}\n",
    "\n",
    "The Euler equations can then be written as follows:\n",
    "\n",
    "\\begin{equation}\n",
    "\\label{Equation:Euler_Density}\n",
    "\\frac{\\partial \\rho}{\\partial t} + \\frac{1}{r^2}\\frac{\\partial}{\\partial r}\\left( r^2 \\rho u \\right) = 0\n",
    "\\end{equation}\n",
    "\n",
    "\\begin{equation}\n",
    "\\label{Equation:Euler_Momentum}\n",
    "\\frac{\\partial u}{\\partial t} + u \\frac{\\partial u}{\\partial r} = - \\frac{c_s^2}{\\rho}\\frac{\\partial \\rho}{\\partial r} - \\frac{G M}{r^2}.\n",
    "\\end{equation}\n",
    "\n",
    "Differentiating Equation \\ref{Equation:Mass_Profile} with respect to $r$ and $t$, we get the mass conservation relations:\n",
    "\n",
    "\\begin{align}\n",
    "\\frac{\\partial M}{\\partial t} &= \\int_0^r 4 \\pi r'^2 \\frac{\\partial \\rho(r',t)}{\\partial t} dr' \\nonumber \\\\\n",
    "                           &= \\int_0^r 4 \\pi r'^2 dr' \\left(\\frac{-1}{r'^2}\\frac{\\partial}{\\partial r'} \\left( r'^2 \\rho u \\right)\\right)  \\nonumber \\\\\n",
    "                           &= -4 \\pi r^2 \\rho u                          \n",
    "\\label{Equation:Mass_Conservation_t}\n",
    "\\end{align}\n",
    "\n",
    "and\n",
    "\n",
    "\\begin{equation}\n",
    "\\label{Equation:Mass_Conservation_r}\n",
    "\\frac{\\partial M}{\\partial r} =  4 \\pi r^2 \\rho \n",
    "\\end{equation}\n",
    "\n",
    "Now let us define the dimensionless coordinate $x = \\frac{r}{c_s t}$, and the dimensionless variables $\\alpha(x)$, $v(x)$, and $m(x)$ as follows:\n",
    "\n",
    "\\begin{align}\n",
    "\\label{Equation:Dimensionless_Variables}\n",
    "\\rho(r,t) &= \\frac{\\alpha (x)}{4 \\pi G t^2} \\\\\n",
    "u(r,t) &= c_s v(x) \\\\\n",
    "M(r,t) &= \\frac{c_s^3 t}{G} m(x)\n",
    "\\end{align}\n",
    "\n",
    "Under this change of coordinates, the derivatives transform as:\n",
    "\\begin{align*}\n",
    "\\frac{\\partial}{\\partial t} &= -\\frac{r}{c_s t^2} \\frac{d}{dx}  = -\\frac{x}{t} \\frac{d}{dx} \\\\\n",
    "\\frac{\\partial}{\\partial r} &= \\frac{1}{c_s t} \\frac{d}{dx}\n",
    "\\end{align*}\n",
    "\n",
    "We can then subsitute these relations into Equations \\ref{Equation:Mass_Conservation_r} and \\ref{Equation:Mass_Conservation_t} to get: \n",
    "\\begin{align*}\n",
    "\\frac{dm}{dx} &= x^3 \\alpha \\\\\n",
    "m - x \\frac{dm}{dx} &= -\\alpha x^2 v \n",
    "\\end{align*}\n",
    "\n",
    "We can simplify these equations to the following:\n",
    "\\begin{equation}\n",
    "\\label{Equation:Mass_Conservation_Dimensionless}\n",
    "\\frac{dm}{dx} = x^2 \\alpha (x - v)\n",
    "\\end{equation}\n",
    "\n",
    "Similarly, Equation \\ref{Equation:Euler_Density} transforms to:\n",
    "\\begin{equation}\n",
    "\\label{Equation:Euler_Density_Dimensionless}\n",
    "\\frac{1}{\\alpha}\\frac{d\\alpha}{dx}(v - x) + \\frac{dv}{dx} = -\\frac{2}{x} (v - x),\n",
    "\\end{equation}\n",
    "\n",
    "and Equation \\ref{Equation:Euler_Momentum} transforms to:\n",
    "\\begin{equation}\n",
    "\\label{Equation:Euler_Momentum_Dimensionless}\n",
    "\\frac{dv}{dx}(v - x) + \\frac{1}{\\alpha}\\frac{d\\alpha}{dx} = \\alpha (v - x).\n",
    "\\end{equation}\n",
    "\n",
    "Via manipulation of these equations, we arrive at the following pair of ODEs for $\\alpha$ and $v$:\n",
    "\n",
    "\\begin{align}\n",
    "\\label{Equation:ODEs_in_x_1}\n",
    "\\left\\{(x - v)^2 - 1 \\right\\}\\frac{1}{\\alpha}\\frac{d\\alpha}{dx} &= \\left\\{\\alpha (x - v) - \\frac{2}{x} \\right\\}(x - v)\\\\\n",
    "\\label{Equation:ODEs_in_x_2}\n",
    "\\left\\{(x - v)^2 - 1 \\right\\}\\frac{dv}{dx} &= \\left\\{\\alpha - \\frac{2}{x}(x - v) \\right\\}(x - v)\n",
    "\\end{align}\n",
    "\n",
    "Now we make another change of variables $y = \\frac{1}{x}$, which transforms our Equations \\ref{Equation:ODEs_in_x_1} and \\ref{Equation:ODEs_in_x_2} to:\n",
    "\n",
    "\\begin{align}\n",
    "\\label{Equation:ODEs_in_y_1}\n",
    "\\left\\{(1 - v^2)y^4 + 2vy^3 - y^2 \\right\\}\\frac{d\\alpha}{dy} &= -2\\alpha v^2 y^3 + (4\\alpha v - \\alpha^2 v)y^2 + (\\alpha^2 - 2\\alpha ) y\\\\\n",
    "\\label{Equation:ODEs_in_y_2}\n",
    "\\left\\{(1 - v^2)y^4 + 2vy^3 - y^2 \\right\\}\\frac{dv}{dy} &= 2 v y^3 + (\\alpha v^2 - 2)y^2 - 2\\alpha vy + \\alpha,\n",
    "\\end{align}\n",
    "\n",
    "and the mass conservation equation becomes\n",
    "\\begin{equation}\n",
    "\\label{Equation:Mass_conservation_y}\n",
    "my^3 = \\alpha (1 - vy)\n",
    "\\end{equation}\n",
    "\n",
    "Imposing the boundary conditions $\\alpha(0) = 0$ and $v(0) = 0$, and imposing that $\\alpha$ must be an even function, and $v$ odd, we can express $\\alpha$ and $v$ with the following series expansions:\n",
    "\n",
    "\\begin{align}\n",
    "\\label{Equation:alpha_series}\n",
    "\\alpha(y) &= \\alpha_2 y^2 + \\alpha_4 y^4 + \\ldots \\\\\n",
    "\\label{Equation:v_series}\n",
    "v(y) &= v_1 y + v_3 y^3 + \\ldots\n",
    "\\end{align}\n",
    "\n",
    "Using the Equation \\ref{Equation:alpha_series} in Equation \\ref{Equation:ODEs_in_y_1}, and equating $y^3$ terms, we get $\\alpha_2 = \\alpha_2$, meaning that $\\alpha_2$ is a free parameter in the solution, which we will call $A$. $A$ essentially determines the scaling of the density profile. Equating $y^5$ terms gives us the relation \n",
    "\n",
    "\\begin{equation}\n",
    "\\label{Equation:alpha_4}\n",
    "\\alpha_4 = \\frac{2A- A^2}{2}.\n",
    "\\end{equation}\n",
    "\n",
    "Using the Equation \\ref{Equation:v_series} in Equation \\ref{Equation:ODEs_in_y_2}, and equating $y^2$ terms, we get the relation \n",
    "\n",
    "\\begin{equation}\n",
    "\\label{Equation:v_1}\n",
    "v_1 = 2 - A.\n",
    "\\end{equation}\n",
    "\n",
    "Equating $y^4$ terms gives us:\n",
    "\n",
    "\\begin{equation}\n",
    "\\label{Equation:v_3}\n",
    "v_3 = \\frac{1}{6}(A - 6)(A - 2).\n",
    "\\end{equation}\n",
    "\n",
    "To find numerical solutions, we solve the following ODE:\n",
    "\n",
    "\\begin{equation}\n",
    "\\label{Equation:vector_ODE}\n",
    "\\frac{d}{dy} \n",
    "\\begin{pmatrix}\n",
    "\\alpha \\\\\n",
    "v \n",
    "\\end{pmatrix}\n",
    "= \\frac{1}{(1 - v^2)y^4 + 2vy^3 - y^2} \n",
    "\\begin{pmatrix}\n",
    "-2\\alpha v^2 y^3 + (4\\alpha v - \\alpha^2 v)y^2 + (\\alpha^2 - 2\\alpha ) y\\\\\n",
    "2 v y^3 + (\\alpha v^2 - 2)y^2 - 2\\alpha vy + \\alpha\n",
    "\\end{pmatrix},\n",
    "\\end{equation}\n",
    "\n",
    "with initial conditions at $y=0.01$ determined by the series expansion in Equations \\ref{Equation:alpha_series} and \\ref{Equation:v_series}, with the coefficients determined by Equations \\ref{Equation:alpha_4}, \\ref{Equation:v_1}, and \\ref{Equation:v_3}, for a given value of $A$. Note that collapse solutions correspond to $A > 2$."
   ]
  },
  {
   "cell_type": "code",
   "execution_count": 2,
   "metadata": {},
   "outputs": [],
   "source": [
    "import numpy as np\n",
    "from scipy.integrate import odeint\n",
    "import matplotlib.pyplot as plt"
   ]
  },
  {
   "cell_type": "code",
   "execution_count": 3,
   "metadata": {},
   "outputs": [],
   "source": [
    "def solve_ode(y_sol,A):\n",
    "    y_0 = y_sol[0]\n",
    "    alpha_0 = A*y_0**2 + 0.5*(2*A - A**2)*y_0**4\n",
    "    v_0 = (2-A)*y_0 + (A - 6)*(A - 2)/6 * y_0**3\n",
    "    w_0 = [alpha_0,v_0]\n",
    "    \n",
    "    def func(w,y):\n",
    "    \n",
    "        alpha, v = w\n",
    "    \n",
    "        return [-2 * alpha * v**2 * y**3 + (4*alpha*v - alpha**2 * v)*y**2 + (alpha**2 - 2*alpha)*y,\n",
    "                2*v*y**3 + (alpha*v**2 - 2)*y**2 - 2*alpha*v*y + alpha] / ((1-v**2)*y**4 + 2*v*y**3 - y**2)\n",
    "    \n",
    "    sol = odeint(func,w_0,y_sol)\n",
    "    \n",
    "    sol_dict = {\"y\":y_sol,\"x\":1/y_sol,\"alpha\" : sol[:,0], \"v\" : sol[:,1],\n",
    "                \"m\" : sol[:,0]/y_sol**3 * (1 - sol[:,1]*y_sol)}\n",
    "    \n",
    "    return sol_dict\n",
    "    "
   ]
  },
  {
   "cell_type": "code",
   "execution_count": 4,
   "metadata": {},
   "outputs": [],
   "source": [
    "sol = solve_ode(np.linspace(0.01,10000,100000),29.3)"
   ]
  },
  {
   "cell_type": "code",
   "execution_count": 5,
   "metadata": {},
   "outputs": [
    {
     "name": "stderr",
     "output_type": "stream",
     "text": [
      "/tmp/ipykernel_1423112/1700821091.py:16: UserWarning: Matplotlib is currently using module://matplotlib_inline.backend_inline, which is a non-GUI backend, so cannot show the figure.\n",
      "  fig.show()\n"
     ]
    },
    {
     "data": {
      "image/png": "[encoded data removed]",
      "text/plain": [
       "<Figure size 576x576 with 1 Axes>"
      ]
     },
     "metadata": {
      "needs_background": "light"
     },
     "output_type": "display_data"
    }
   ],
   "source": [
    "fig,ax = plt.subplots()\n",
    "fig.set_figheight(8)\n",
    "fig.set_figwidth(8)\n",
    "ax.plot(sol[\"x\"],sol[\"alpha\"][0]*(sol[\"x\"]/sol[\"x\"][0])**(-2),alpha = 0.7,linewidth = 3.0,label = r\"$x^{-2}$\")\n",
    "ax.plot(sol[\"x\"],sol[\"alpha\"][-1]*(sol[\"x\"]/sol[\"x\"][-1])**(-1.5),alpha = 0.7,linewidth = 3.0,label = r\"$x^{-3/2}$\")\n",
    "ax.plot(sol[\"x\"],sol[\"alpha\"],ls = \"--\",label = r\"$\\alpha$\",linewidth = 3.0)\n",
    "#ax.plot(sol[\"x\"],-sol[\"v\"],ls = \":\",label = r\"$-v$\")\n",
    "#ax.plot(sol[\"x\"],-sol[\"alpha\"]*sol[\"v\"]/sol[\"y\"]**2,ls = \"--\",label = r\"$\\alpha v/ y^2$\")\n",
    "#ax.plot(sol[\"x\"],sol[\"alpha\"]/sol[\"y\"]**3,ls = \":\",label = r\"$\\alpha / y^3$\")\n",
    "#ax.plot(sol[\"x\"],sol[\"m\"],ls = \"-.\",label = r\"$m$\")\n",
    "#ax.plot(sol[\"x\"],sol[\"x\"]**(-0.5))\n",
    "ax.set_yscale('log')\n",
    "ax.set_xscale('log')\n",
    "ax.legend(loc = 0)\n",
    "ax.set_xlabel(\"x\")\n",
    "fig.show()"
   ]
  },
  {
   "cell_type": "markdown",
   "metadata": {},
   "source": [
    "Differentiating Equation 8 with respect to $t$, we get\n",
    "\\begin{equation}\n",
    "\\frac{\\partial M(r,t)}{\\partial t} = \\frac{c_s^3}{G} m\\left(\\frac{r}{c_s t}\\right)\n",
    "\\end{equation}\n",
    "\n",
    "So the accretion rate at the origin is $\\frac{c_s^3}{G} m(x = 0) = \\frac{c_s^3}{G} m(y=\\infty) $. The mass of a sink particle at the origin after time $t$ will be this value multiplied by $t$."
   ]
  },
  {
   "cell_type": "code",
   "execution_count": 6,
   "metadata": {},
   "outputs": [
    {
     "name": "stderr",
     "output_type": "stream",
     "text": [
      "/tmp/ipykernel_1423112/347448009.py:8: UserWarning: Matplotlib is currently using module://matplotlib_inline.backend_inline, which is a non-GUI backend, so cannot show the figure.\n",
      "  fig.show()\n"
     ]
    },
    {
     "data": {
      "image/png": "[encoded data removed]",
      "text/plain": [
       "<Figure size 864x864 with 1 Axes>"
      ]
     },
     "metadata": {
      "needs_background": "light"
     },
     "output_type": "display_data"
    }
   ],
   "source": [
    "fig,ax = plt.subplots()\n",
    "fig.set_figheight(12)\n",
    "fig.set_figwidth(12)\n",
    "ax.plot(sol[\"y\"],sol[\"m\"]/sol[\"m\"][-1],ls = \"--\",label = r\"$m/m_0$\")\n",
    "#ax.set_yscale('log')\n",
    "ax.set_xscale('log')\n",
    "ax.axhline(y = 1.0,alpha = 0.7,color = \"k\")\n",
    "fig.show()"
   ]
  },
  {
   "cell_type": "code",
   "execution_count": 7,
   "metadata": {},
   "outputs": [],
   "source": [
    "m_0 = sol[\"m\"][-1]\n",
    "c_s = 166.0\n",
    "G = 6.67408e-11\n",
    "year = 3.156e7\n",
    "solar_mass = 1.989e30\n",
    "acc_rate = m_0 * c_s**3 / G / (solar_mass/year)"
   ]
  },
  {
   "cell_type": "code",
   "execution_count": 8,
   "metadata": {},
   "outputs": [
    {
     "name": "stdout",
     "output_type": "stream",
     "text": [
      "0.00015109182226910885\n"
     ]
    }
   ],
   "source": [
    "print(acc_rate)"
   ]
  },
  {
   "cell_type": "markdown",
   "metadata": {},
   "source": [
    "The steps for creating initial conditions for Shu collapse are as follows:\n",
    "\n",
    "1 - Choose values for $c_s$, $A$, and $t$.\n",
    "\n",
    "2 - Using steps outlined above, solve equations for $\\alpha$, $v$, and $m$ (as functions of $y = 1/x = \\frac{c_s t}{r}$.\n",
    "\n",
    "3 - Get $\\rho$ (density) and $u$ (radial velocity) as functions of r (for given t). Also get the mass of the sink particle at time $t$.\n",
    "\n",
    "One can then test whether the subsequent evolution of the system obeys the self-similiar solution, and whether the mass of the sink particle increases linearly with time with the correct accretion rate. In addition, it would be ideal to run the problem with an isothermal equation of state (which is not yet implemented in Enzo-E), rather than\n",
    "an adiabatic equation of state with $\\gamma$ slightly bigger than 1.\n",
    "\n",
    "See Mark R. Krumholz et al 2004 ApJ 611 399 (Section 3.1) for more details."
   ]
  },
  {
   "cell_type": "code",
   "execution_count": null,
   "metadata": {},
   "outputs": [],
   "source": []
  }
 ],
 "metadata": {
  "kernelspec": {
   "display_name": "enzo-e-analysis",
   "language": "python",
   "name": "enzo-e-analysis"
  },
  "language_info": {
   "codemirror_mode": {
    "name": "ipython",
    "version": 3
   },
   "file_extension": ".py",
   "mimetype": "text/x-python",
   "name": "python",
   "nbconvert_exporter": "python",
   "pygments_lexer": "ipython3",
   "version": "3.10.1"
  }
 },
 "nbformat": 4,
 "nbformat_minor": 4
}
